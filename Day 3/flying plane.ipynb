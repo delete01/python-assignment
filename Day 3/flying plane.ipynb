{
 "cells": [
  {
   "cell_type": "code",
   "execution_count": 4,
   "metadata": {},
   "outputs": [
    {
     "name": "stdout",
     "output_type": "stream",
     "text": [
      "Enter current altitude you are flying a plane on : 3500\n",
      "Bring down to 1000\n"
     ]
    }
   ],
   "source": [
    "# altitude require for landing a plane is 1000ft\n",
    "# if it less pilot will land plane\n",
    "# or it is more than 1000ft but less than 5000ft as pilot to \"come down to 1000ft\"\n",
    "# if it's more than 5000ft ask the pilot to \"go around and try later\"\n",
    "\n",
    "Altitude = int(input(\"Enter current altitude you are flying a plane on : \"))\n",
    "\n",
    "if Altitude <= 1000:\n",
    "    print(\"Safe to Land\")\n",
    "elif 1000 <= Altitude <= 5000:\n",
    "    print(\"Bring down to 1000\")\n",
    "elif Altitude > 5000:\n",
    "    print(\"Turn Around\")\n",
    "else:\n",
    "    print(\"you are still on runway.....\")"
   ]
  },
  {
   "cell_type": "code",
   "execution_count": null,
   "metadata": {},
   "outputs": [],
   "source": []
  },
  {
   "cell_type": "code",
   "execution_count": null,
   "metadata": {},
   "outputs": [],
   "source": []
  }
 ],
 "metadata": {
  "kernelspec": {
   "display_name": "Python 3",
   "language": "python",
   "name": "python3"
  },
  "language_info": {
   "codemirror_mode": {
    "name": "ipython",
    "version": 3
   },
   "file_extension": ".py",
   "mimetype": "text/x-python",
   "name": "python",
   "nbconvert_exporter": "python",
   "pygments_lexer": "ipython3",
   "version": "3.7.6"
  }
 },
 "nbformat": 4,
 "nbformat_minor": 4
}
